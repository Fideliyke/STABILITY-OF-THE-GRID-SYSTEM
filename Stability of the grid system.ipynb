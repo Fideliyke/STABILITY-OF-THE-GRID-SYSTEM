{
 "cells": [
  {
   "cell_type": "code",
   "execution_count": 1,
   "id": "2824fd98",
   "metadata": {
    "scrolled": true
   },
   "outputs": [
    {
     "data": {
      "text/html": [
       "<div>\n",
       "<style scoped>\n",
       "    .dataframe tbody tr th:only-of-type {\n",
       "        vertical-align: middle;\n",
       "    }\n",
       "\n",
       "    .dataframe tbody tr th {\n",
       "        vertical-align: top;\n",
       "    }\n",
       "\n",
       "    .dataframe thead th {\n",
       "        text-align: right;\n",
       "    }\n",
       "</style>\n",
       "<table border=\"1\" class=\"dataframe\">\n",
       "  <thead>\n",
       "    <tr style=\"text-align: right;\">\n",
       "      <th></th>\n",
       "      <th>tau1</th>\n",
       "      <th>tau2</th>\n",
       "      <th>tau3</th>\n",
       "      <th>tau4</th>\n",
       "      <th>p1</th>\n",
       "      <th>p2</th>\n",
       "      <th>p3</th>\n",
       "      <th>p4</th>\n",
       "      <th>g1</th>\n",
       "      <th>g2</th>\n",
       "      <th>g3</th>\n",
       "      <th>g4</th>\n",
       "      <th>stab</th>\n",
       "      <th>stabf</th>\n",
       "    </tr>\n",
       "  </thead>\n",
       "  <tbody>\n",
       "    <tr>\n",
       "      <th>0</th>\n",
       "      <td>2.959060</td>\n",
       "      <td>3.079885</td>\n",
       "      <td>8.381025</td>\n",
       "      <td>9.780754</td>\n",
       "      <td>3.763085</td>\n",
       "      <td>-0.782604</td>\n",
       "      <td>-1.257395</td>\n",
       "      <td>-1.723086</td>\n",
       "      <td>0.650456</td>\n",
       "      <td>0.859578</td>\n",
       "      <td>0.887445</td>\n",
       "      <td>0.958034</td>\n",
       "      <td>0.055347</td>\n",
       "      <td>unstable</td>\n",
       "    </tr>\n",
       "    <tr>\n",
       "      <th>1</th>\n",
       "      <td>9.304097</td>\n",
       "      <td>4.902524</td>\n",
       "      <td>3.047541</td>\n",
       "      <td>1.369357</td>\n",
       "      <td>5.067812</td>\n",
       "      <td>-1.940058</td>\n",
       "      <td>-1.872742</td>\n",
       "      <td>-1.255012</td>\n",
       "      <td>0.413441</td>\n",
       "      <td>0.862414</td>\n",
       "      <td>0.562139</td>\n",
       "      <td>0.781760</td>\n",
       "      <td>-0.005957</td>\n",
       "      <td>stable</td>\n",
       "    </tr>\n",
       "    <tr>\n",
       "      <th>2</th>\n",
       "      <td>8.971707</td>\n",
       "      <td>8.848428</td>\n",
       "      <td>3.046479</td>\n",
       "      <td>1.214518</td>\n",
       "      <td>3.405158</td>\n",
       "      <td>-1.207456</td>\n",
       "      <td>-1.277210</td>\n",
       "      <td>-0.920492</td>\n",
       "      <td>0.163041</td>\n",
       "      <td>0.766689</td>\n",
       "      <td>0.839444</td>\n",
       "      <td>0.109853</td>\n",
       "      <td>0.003471</td>\n",
       "      <td>unstable</td>\n",
       "    </tr>\n",
       "    <tr>\n",
       "      <th>3</th>\n",
       "      <td>0.716415</td>\n",
       "      <td>7.669600</td>\n",
       "      <td>4.486641</td>\n",
       "      <td>2.340563</td>\n",
       "      <td>3.963791</td>\n",
       "      <td>-1.027473</td>\n",
       "      <td>-1.938944</td>\n",
       "      <td>-0.997374</td>\n",
       "      <td>0.446209</td>\n",
       "      <td>0.976744</td>\n",
       "      <td>0.929381</td>\n",
       "      <td>0.362718</td>\n",
       "      <td>0.028871</td>\n",
       "      <td>unstable</td>\n",
       "    </tr>\n",
       "  </tbody>\n",
       "</table>\n",
       "</div>"
      ],
      "text/plain": [
       "       tau1      tau2      tau3      tau4        p1        p2        p3  \\\n",
       "0  2.959060  3.079885  8.381025  9.780754  3.763085 -0.782604 -1.257395   \n",
       "1  9.304097  4.902524  3.047541  1.369357  5.067812 -1.940058 -1.872742   \n",
       "2  8.971707  8.848428  3.046479  1.214518  3.405158 -1.207456 -1.277210   \n",
       "3  0.716415  7.669600  4.486641  2.340563  3.963791 -1.027473 -1.938944   \n",
       "\n",
       "         p4        g1        g2        g3        g4      stab     stabf  \n",
       "0 -1.723086  0.650456  0.859578  0.887445  0.958034  0.055347  unstable  \n",
       "1 -1.255012  0.413441  0.862414  0.562139  0.781760 -0.005957    stable  \n",
       "2 -0.920492  0.163041  0.766689  0.839444  0.109853  0.003471  unstable  \n",
       "3 -0.997374  0.446209  0.976744  0.929381  0.362718  0.028871  unstable  "
      ]
     },
     "execution_count": 1,
     "metadata": {},
     "output_type": "execute_result"
    }
   ],
   "source": [
    "import pandas as pd\n",
    "import numpy as np \n",
    "from numpy import mean\n",
    "from numpy import std\n",
    "import matplotlib.pyplot as plt \n",
    "import seaborn as sns\n",
    "import sklearn.utils \n",
    "from sklearn.model_selection import train_test_split\n",
    "from imblearn.over_sampling import SMOTE\n",
    "from sklearn.preprocessing import StandardScaler\n",
    "from sklearn.metrics import recall_score, accuracy_score, precision_score, f1_score, confusion_matrix\n",
    "from sklearn.metrics import classification_report\n",
    "from sklearn.model_selection import cross_val_score, KFold, StratifiedKFold\n",
    "from sklearn.tree import DecisionTreeClassifier\n",
    "from xgboost import XGBClassifier\n",
    "from sklearn.ensemble import RandomForestClassifier\n",
    "from sklearn.ensemble import ExtraTreesClassifier\n",
    "from lightgbm import LGBMClassifier\n",
    "\n",
    "data = pd.read_csv('Data_for_UCI_named.csv')\n",
    "data.head(4)"
   ]
  },
  {
   "cell_type": "code",
   "execution_count": 2,
   "id": "20a9d03c",
   "metadata": {},
   "outputs": [
    {
     "data": {
      "text/plain": [
       "(10000, 14)"
      ]
     },
     "execution_count": 2,
     "metadata": {},
     "output_type": "execute_result"
    }
   ],
   "source": [
    "data.shape"
   ]
  },
  {
   "cell_type": "code",
   "execution_count": 3,
   "id": "b7291b7c",
   "metadata": {},
   "outputs": [
    {
     "name": "stdout",
     "output_type": "stream",
     "text": [
      "<class 'pandas.core.frame.DataFrame'>\n",
      "RangeIndex: 10000 entries, 0 to 9999\n",
      "Data columns (total 14 columns):\n",
      " #   Column  Non-Null Count  Dtype  \n",
      "---  ------  --------------  -----  \n",
      " 0   tau1    10000 non-null  float64\n",
      " 1   tau2    10000 non-null  float64\n",
      " 2   tau3    10000 non-null  float64\n",
      " 3   tau4    10000 non-null  float64\n",
      " 4   p1      10000 non-null  float64\n",
      " 5   p2      10000 non-null  float64\n",
      " 6   p3      10000 non-null  float64\n",
      " 7   p4      10000 non-null  float64\n",
      " 8   g1      10000 non-null  float64\n",
      " 9   g2      10000 non-null  float64\n",
      " 10  g3      10000 non-null  float64\n",
      " 11  g4      10000 non-null  float64\n",
      " 12  stab    10000 non-null  float64\n",
      " 13  stabf   10000 non-null  object \n",
      "dtypes: float64(13), object(1)\n",
      "memory usage: 1.1+ MB\n"
     ]
    }
   ],
   "source": [
    "data.info()"
   ]
  },
  {
   "cell_type": "code",
   "execution_count": 4,
   "id": "c7157d2b",
   "metadata": {
    "scrolled": true
   },
   "outputs": [
    {
     "data": {
      "text/html": [
       "<div>\n",
       "<style scoped>\n",
       "    .dataframe tbody tr th:only-of-type {\n",
       "        vertical-align: middle;\n",
       "    }\n",
       "\n",
       "    .dataframe tbody tr th {\n",
       "        vertical-align: top;\n",
       "    }\n",
       "\n",
       "    .dataframe thead th {\n",
       "        text-align: right;\n",
       "    }\n",
       "</style>\n",
       "<table border=\"1\" class=\"dataframe\">\n",
       "  <thead>\n",
       "    <tr style=\"text-align: right;\">\n",
       "      <th></th>\n",
       "      <th>tau1</th>\n",
       "      <th>tau2</th>\n",
       "      <th>tau3</th>\n",
       "      <th>tau4</th>\n",
       "      <th>p1</th>\n",
       "      <th>p2</th>\n",
       "      <th>p3</th>\n",
       "      <th>p4</th>\n",
       "      <th>g1</th>\n",
       "      <th>g2</th>\n",
       "      <th>g3</th>\n",
       "      <th>g4</th>\n",
       "      <th>stab</th>\n",
       "    </tr>\n",
       "  </thead>\n",
       "  <tbody>\n",
       "    <tr>\n",
       "      <th>count</th>\n",
       "      <td>10000.000000</td>\n",
       "      <td>10000.000000</td>\n",
       "      <td>10000.000000</td>\n",
       "      <td>10000.000000</td>\n",
       "      <td>10000.000000</td>\n",
       "      <td>10000.000000</td>\n",
       "      <td>10000.000000</td>\n",
       "      <td>10000.000000</td>\n",
       "      <td>10000.000000</td>\n",
       "      <td>10000.000000</td>\n",
       "      <td>10000.000000</td>\n",
       "      <td>10000.000000</td>\n",
       "      <td>10000.000000</td>\n",
       "    </tr>\n",
       "    <tr>\n",
       "      <th>mean</th>\n",
       "      <td>5.250000</td>\n",
       "      <td>5.250001</td>\n",
       "      <td>5.250004</td>\n",
       "      <td>5.249997</td>\n",
       "      <td>3.750000</td>\n",
       "      <td>-1.250000</td>\n",
       "      <td>-1.250000</td>\n",
       "      <td>-1.250000</td>\n",
       "      <td>0.525000</td>\n",
       "      <td>0.525000</td>\n",
       "      <td>0.525000</td>\n",
       "      <td>0.525000</td>\n",
       "      <td>0.015731</td>\n",
       "    </tr>\n",
       "    <tr>\n",
       "      <th>std</th>\n",
       "      <td>2.742548</td>\n",
       "      <td>2.742549</td>\n",
       "      <td>2.742549</td>\n",
       "      <td>2.742556</td>\n",
       "      <td>0.752160</td>\n",
       "      <td>0.433035</td>\n",
       "      <td>0.433035</td>\n",
       "      <td>0.433035</td>\n",
       "      <td>0.274256</td>\n",
       "      <td>0.274255</td>\n",
       "      <td>0.274255</td>\n",
       "      <td>0.274255</td>\n",
       "      <td>0.036919</td>\n",
       "    </tr>\n",
       "    <tr>\n",
       "      <th>min</th>\n",
       "      <td>0.500793</td>\n",
       "      <td>0.500141</td>\n",
       "      <td>0.500788</td>\n",
       "      <td>0.500473</td>\n",
       "      <td>1.582590</td>\n",
       "      <td>-1.999891</td>\n",
       "      <td>-1.999945</td>\n",
       "      <td>-1.999926</td>\n",
       "      <td>0.050009</td>\n",
       "      <td>0.050053</td>\n",
       "      <td>0.050054</td>\n",
       "      <td>0.050028</td>\n",
       "      <td>-0.080760</td>\n",
       "    </tr>\n",
       "    <tr>\n",
       "      <th>25%</th>\n",
       "      <td>2.874892</td>\n",
       "      <td>2.875140</td>\n",
       "      <td>2.875522</td>\n",
       "      <td>2.874950</td>\n",
       "      <td>3.218300</td>\n",
       "      <td>-1.624901</td>\n",
       "      <td>-1.625025</td>\n",
       "      <td>-1.624960</td>\n",
       "      <td>0.287521</td>\n",
       "      <td>0.287552</td>\n",
       "      <td>0.287514</td>\n",
       "      <td>0.287494</td>\n",
       "      <td>-0.015557</td>\n",
       "    </tr>\n",
       "    <tr>\n",
       "      <th>50%</th>\n",
       "      <td>5.250004</td>\n",
       "      <td>5.249981</td>\n",
       "      <td>5.249979</td>\n",
       "      <td>5.249734</td>\n",
       "      <td>3.751025</td>\n",
       "      <td>-1.249966</td>\n",
       "      <td>-1.249974</td>\n",
       "      <td>-1.250007</td>\n",
       "      <td>0.525009</td>\n",
       "      <td>0.525003</td>\n",
       "      <td>0.525015</td>\n",
       "      <td>0.525002</td>\n",
       "      <td>0.017142</td>\n",
       "    </tr>\n",
       "    <tr>\n",
       "      <th>75%</th>\n",
       "      <td>7.624690</td>\n",
       "      <td>7.624893</td>\n",
       "      <td>7.624948</td>\n",
       "      <td>7.624838</td>\n",
       "      <td>4.282420</td>\n",
       "      <td>-0.874977</td>\n",
       "      <td>-0.875043</td>\n",
       "      <td>-0.875065</td>\n",
       "      <td>0.762435</td>\n",
       "      <td>0.762490</td>\n",
       "      <td>0.762440</td>\n",
       "      <td>0.762433</td>\n",
       "      <td>0.044878</td>\n",
       "    </tr>\n",
       "    <tr>\n",
       "      <th>max</th>\n",
       "      <td>9.999469</td>\n",
       "      <td>9.999837</td>\n",
       "      <td>9.999450</td>\n",
       "      <td>9.999443</td>\n",
       "      <td>5.864418</td>\n",
       "      <td>-0.500108</td>\n",
       "      <td>-0.500072</td>\n",
       "      <td>-0.500025</td>\n",
       "      <td>0.999937</td>\n",
       "      <td>0.999944</td>\n",
       "      <td>0.999982</td>\n",
       "      <td>0.999930</td>\n",
       "      <td>0.109403</td>\n",
       "    </tr>\n",
       "  </tbody>\n",
       "</table>\n",
       "</div>"
      ],
      "text/plain": [
       "               tau1          tau2          tau3          tau4            p1  \\\n",
       "count  10000.000000  10000.000000  10000.000000  10000.000000  10000.000000   \n",
       "mean       5.250000      5.250001      5.250004      5.249997      3.750000   \n",
       "std        2.742548      2.742549      2.742549      2.742556      0.752160   \n",
       "min        0.500793      0.500141      0.500788      0.500473      1.582590   \n",
       "25%        2.874892      2.875140      2.875522      2.874950      3.218300   \n",
       "50%        5.250004      5.249981      5.249979      5.249734      3.751025   \n",
       "75%        7.624690      7.624893      7.624948      7.624838      4.282420   \n",
       "max        9.999469      9.999837      9.999450      9.999443      5.864418   \n",
       "\n",
       "                 p2            p3            p4            g1            g2  \\\n",
       "count  10000.000000  10000.000000  10000.000000  10000.000000  10000.000000   \n",
       "mean      -1.250000     -1.250000     -1.250000      0.525000      0.525000   \n",
       "std        0.433035      0.433035      0.433035      0.274256      0.274255   \n",
       "min       -1.999891     -1.999945     -1.999926      0.050009      0.050053   \n",
       "25%       -1.624901     -1.625025     -1.624960      0.287521      0.287552   \n",
       "50%       -1.249966     -1.249974     -1.250007      0.525009      0.525003   \n",
       "75%       -0.874977     -0.875043     -0.875065      0.762435      0.762490   \n",
       "max       -0.500108     -0.500072     -0.500025      0.999937      0.999944   \n",
       "\n",
       "                 g3            g4          stab  \n",
       "count  10000.000000  10000.000000  10000.000000  \n",
       "mean       0.525000      0.525000      0.015731  \n",
       "std        0.274255      0.274255      0.036919  \n",
       "min        0.050054      0.050028     -0.080760  \n",
       "25%        0.287514      0.287494     -0.015557  \n",
       "50%        0.525015      0.525002      0.017142  \n",
       "75%        0.762440      0.762433      0.044878  \n",
       "max        0.999982      0.999930      0.109403  "
      ]
     },
     "execution_count": 4,
     "metadata": {},
     "output_type": "execute_result"
    }
   ],
   "source": [
    "data.describe()"
   ]
  },
  {
   "cell_type": "code",
   "execution_count": 5,
   "id": "9a0b8fb8",
   "metadata": {},
   "outputs": [
    {
     "data": {
      "text/plain": [
       "<AxesSubplot:>"
      ]
     },
     "execution_count": 5,
     "metadata": {},
     "output_type": "execute_result"
    },
    {
     "data": {
      "image/png": "[encoded data removed]",
      "text/plain": [
       "<Figure size 1080x720 with 2 Axes>"
      ]
     },
     "metadata": {
      "needs_background": "light"
     },
     "output_type": "display_data"
    }
   ],
   "source": [
    "fig, ax = plt.subplots(figsize=(15, 10))\n",
    "columns = data.columns\n",
    "\n",
    "sns.heatmap(data=data.corr(), annot=True)\n"
   ]
  },
  {
   "cell_type": "code",
   "execution_count": 6,
   "id": "1d16db01",
   "metadata": {},
   "outputs": [
    {
     "data": {
      "text/plain": [
       "unstable    6380\n",
       "stable      3620\n",
       "Name: stabf, dtype: int64"
      ]
     },
     "execution_count": 6,
     "metadata": {},
     "output_type": "execute_result"
    }
   ],
   "source": [
    "data = data.drop(columns=['stab'])\n",
    "data['stabf'].value_counts()"
   ]
  },
  {
   "cell_type": "code",
   "execution_count": 7,
   "id": "2aff570c",
   "metadata": {},
   "outputs": [
    {
     "data": {
      "text/plain": [
       "1    6380\n",
       "0    3620\n",
       "Name: stabf, dtype: int64"
      ]
     },
     "execution_count": 7,
     "metadata": {},
     "output_type": "execute_result"
    }
   ],
   "source": [
    "data.stabf = data.stabf.astype('category')\n",
    "data.stabf = data.stabf.cat.codes\n",
    "data.stabf.value_counts()"
   ]
  },
  {
   "cell_type": "code",
   "execution_count": 8,
   "id": "f6ccdcc6",
   "metadata": {},
   "outputs": [
    {
     "data": {
      "text/plain": [
       "1    4000\n",
       "0    3620\n",
       "Name: stabf, dtype: int64"
      ]
     },
     "execution_count": 8,
     "metadata": {},
     "output_type": "execute_result"
    }
   ],
   "source": [
    "data_stab = data[data.stabf==0]\n",
    "data_unstab = data[data.stabf==1].sample(4000)\n",
    "data_df = data_stab.append(data_unstab)\n",
    "data_df = sklearn.utils.shuffle(data_df)\n",
    "data_df = data_df.reset_index(drop=True)\n",
    "data_df.stabf.value_counts()"
   ]
  },
  {
   "cell_type": "code",
   "execution_count": 9,
   "id": "e19a0de4",
   "metadata": {},
   "outputs": [],
   "source": [
    "x = data_df.drop(columns='stabf')\n",
    "y = data_df['stabf']"
   ]
  },
  {
   "cell_type": "code",
   "execution_count": 10,
   "id": "b4af5190",
   "metadata": {},
   "outputs": [
    {
     "data": {
      "text/plain": [
       "1    3218\n",
       "0    2878\n",
       "Name: stabf, dtype: int64"
      ]
     },
     "execution_count": 10,
     "metadata": {},
     "output_type": "execute_result"
    }
   ],
   "source": [
    "#split into training and testing set\n",
    "\n",
    "x_train, x_test, y_train, y_test = train_test_split(x, y, test_size= 0.2, random_state= 1) \n",
    "y_train.value_counts()"
   ]
  },
  {
   "cell_type": "code",
   "execution_count": 11,
   "id": "aa935d09",
   "metadata": {},
   "outputs": [
    {
     "data": {
      "text/plain": [
       "0    3218\n",
       "1    3218\n",
       "Name: stabf, dtype: int64"
      ]
     },
     "execution_count": 11,
     "metadata": {},
     "output_type": "execute_result"
    }
   ],
   "source": [
    "smote = SMOTE(random_state= 1) \n",
    "x_train_balanced, y_balanced = smote.fit_resample(x_train, y_train) \n",
    "y_balanced.value_counts()"
   ]
  },
  {
   "cell_type": "code",
   "execution_count": 12,
   "id": "1fca85a5",
   "metadata": {},
   "outputs": [],
   "source": [
    "#Standardization\n",
    "stand_scaler = StandardScaler()\n",
    "\n",
    "std_xtrain = stand_scaler.fit_transform(x_train_balanced)\n",
    "std_xtrain = pd.DataFrame(std_xtrain,columns=x_train_balanced.columns)\n",
    "\n",
    "std_xtest = stand_scaler.fit_transform(x_test)\n",
    "std_xtest = pd.DataFrame(std_xtest,columns=x_test.columns)"
   ]
  },
  {
   "cell_type": "code",
   "execution_count": 13,
   "id": "0b836d5d",
   "metadata": {
    "scrolled": true
   },
   "outputs": [
    {
     "name": "stdout",
     "output_type": "stream",
     "text": [
      "For classifiers: StratifiedKFold(n_splits=5, random_state=1, shuffle=True)\n",
      "For regressors: KFold(n_splits=5, random_state=1, shuffle=True)\n"
     ]
    }
   ],
   "source": [
    "# cross-validation splitters\n",
    "skf = StratifiedKFold(random_state=1, shuffle=True)\n",
    "kf = KFold(random_state=1, shuffle=True)\n",
    "print(\"For classifiers:\", skf)\n",
    "print(\"For regressors:\", kf)"
   ]
  },
  {
   "cell_type": "code",
   "execution_count": 14,
   "id": "7f36bb1c",
   "metadata": {},
   "outputs": [
    {
     "name": "stdout",
     "output_type": "stream",
     "text": [
      "[[695  47]\n",
      " [ 68 714]]\n",
      "              precision    recall  f1-score   support\n",
      "\n",
      "           0       0.91      0.94      0.92       742\n",
      "           1       0.94      0.91      0.93       782\n",
      "\n",
      "    accuracy                           0.92      1524\n",
      "   macro avg       0.92      0.92      0.92      1524\n",
      "weighted avg       0.92      0.92      0.92      1524\n",
      "\n",
      "[0.92546584 0.89432789 0.90753691 0.91064491 0.93317793]\n",
      "Mean Cross Val: 0.914\n"
     ]
    }
   ],
   "source": [
    "#Random Forest\n",
    "rrf_class = RandomForestClassifier(random_state=1)\n",
    "rrf_class.fit(std_xtrain,y_balanced)\n",
    "rrf_predictions = rrf_class.predict(std_xtest)\n",
    "cnf_mat = confusion_matrix(y_true=y_test, y_pred=rrf_predictions)\n",
    "print(cnf_mat)\n",
    "rrf_class_re = (classification_report(y_true=y_test, y_pred=rrf_predictions))\n",
    "print(rrf_class_re)\n",
    "rrf_scores = cross_val_score(rrf_class, std_xtrain,y_balanced,cv=skf,scoring='accuracy')\n",
    "print(rrf_scores)\n",
    "print('Mean Cross Val: %.3f' % (mean(rrf_scores)))"
   ]
  },
  {
   "cell_type": "code",
   "execution_count": 15,
   "id": "fd94fc69",
   "metadata": {},
   "outputs": [
    {
     "name": "stdout",
     "output_type": "stream",
     "text": [
      "[[696  46]\n",
      " [ 65 717]]\n",
      "              precision    recall  f1-score   support\n",
      "\n",
      "           0       0.91      0.94      0.93       742\n",
      "           1       0.94      0.92      0.93       782\n",
      "\n",
      "    accuracy                           0.93      1524\n",
      "   macro avg       0.93      0.93      0.93      1524\n",
      "weighted avg       0.93      0.93      0.93      1524\n",
      "\n",
      "[0.92158385 0.90986791 0.91996892 0.92929293 0.92618493]\n",
      "Mean Cross Val: 0.921\n"
     ]
    }
   ],
   "source": [
    "#Extra Tree Classifier\n",
    "et_class = ExtraTreesClassifier(random_state=1)\n",
    "et_class.fit(std_xtrain,y_balanced)\n",
    "et_predictions = et_class.predict(std_xtest)\n",
    "cnf_mat = confusion_matrix(y_true=y_test, y_pred=et_predictions)\n",
    "print(cnf_mat)\n",
    "et_class_re = (classification_report(y_true=y_test, y_pred=et_predictions))\n",
    "print(et_class_re)\n",
    "et_scores = cross_val_score(et_class,std_xtrain,y_balanced,cv=skf,scoring='accuracy')\n",
    "print(et_scores)\n",
    "print('Mean Cross Val: %.3f' % (mean(et_scores)))"
   ]
  },
  {
   "cell_type": "code",
   "execution_count": 16,
   "id": "b3296d1d",
   "metadata": {
    "scrolled": false
   },
   "outputs": [
    {
     "name": "stdout",
     "output_type": "stream",
     "text": [
      "[[736  46]\n",
      " [ 37 705]]\n",
      "              precision    recall  f1-score   support\n",
      "\n",
      "           0       0.94      0.95      0.94       742\n",
      "           1       0.95      0.94      0.95       782\n",
      "\n",
      "    accuracy                           0.95      1524\n",
      "   macro avg       0.95      0.95      0.95      1524\n",
      "weighted avg       0.95      0.95      0.95      1524\n",
      "\n",
      "[0.94253536 0.92539166 0.93782008 0.94016964 0.94638682]\n",
      "Mean Cross Val: 0.938\n"
     ]
    }
   ],
   "source": [
    "#XGB classifier\n",
    "xgb_class = XGBClassifier(random_state=1)\n",
    "xgb_class.fit(std_xtrain,y_balanced)\n",
    "xgb_predictions = xgb_class.predict(std_xtest)\n",
    "cnf_mat = confusion_matrix(y_true=y_test, y_pred=xgb_predictions, labels=[1,0])\n",
    "print(cnf_mat)\n",
    "xgb_class_re = (classification_report(y_true=y_test, y_pred=xgb_predictions))\n",
    "print(xgb_class_re)\n",
    "xgb_scores = cross_val_score(xgb_class, std_xtrain,y_balanced,cv=skf,scoring='f1_macro')\n",
    "print(xgb_scores)\n",
    "print('Mean Cross Val: %.3f' % (mean(xgb_scores)))"
   ]
  },
  {
   "cell_type": "code",
   "execution_count": 17,
   "id": "e429982e",
   "metadata": {
    "scrolled": true
   },
   "outputs": [
    {
     "name": "stdout",
     "output_type": "stream",
     "text": [
      "[[734  48]\n",
      " [ 34 708]]\n",
      "              precision    recall  f1-score   support\n",
      "\n",
      "           0       0.94      0.95      0.95       742\n",
      "           1       0.96      0.94      0.95       782\n",
      "\n",
      "    accuracy                           0.95      1524\n",
      "   macro avg       0.95      0.95      0.95      1524\n",
      "weighted avg       0.95      0.95      0.95      1524\n",
      "\n",
      "Cross validation scores [0.94095264 0.93084092 0.92460471 0.9347319  0.94405591]\n",
      "Mean Cross Val: 0.935\n"
     ]
    }
   ],
   "source": [
    "#LIGHTGB classifier\n",
    "lgb_class = LGBMClassifier(random_state=1)\n",
    "lgb_class.fit(std_xtrain,y_balanced)\n",
    "lgb_predictions = lgb_class.predict(std_xtest)\n",
    "cnf_mat = confusion_matrix(y_true=y_test, y_pred=lgb_predictions, labels=[1,0])\n",
    "print(cnf_mat)\n",
    "lgb_class_re = (classification_report(y_true=y_test, y_pred=lgb_predictions))\n",
    "print(lgb_class_re)\n",
    "lgb_scores = cross_val_score(lgb_class, std_xtrain,y_balanced,cv=skf,scoring='f1_macro')\n",
    "print('Cross validation scores',lgb_scores)\n",
    "print('Mean Cross Val: %.3f' % (mean(lgb_scores)))"
   ]
  },
  {
   "cell_type": "code",
   "execution_count": 18,
   "id": "7d519208",
   "metadata": {
    "scrolled": true
   },
   "outputs": [
    {
     "name": "stdout",
     "output_type": "stream",
     "text": [
      " \n",
      "For Random_class:\n",
      "Accuracy: 0.9106\n",
      "Precision: 0.9223\n",
      "Recall: 0.8981\n",
      "F1: 0.9101\n",
      " \n",
      "For Extra Tree class:\n",
      "Accuracy: 0.9145\n",
      "Precision: 0.9424\n",
      "Recall: 0.8843\n",
      "F1: 0.9124\n",
      " \n",
      "For XGBoost_class:\n",
      "Accuracy: 0.9316\n",
      "Precision: 0.9334\n",
      "Recall: 0.9306\n",
      "F1: 0.9320\n",
      " \n",
      "For LGBoost_class:\n",
      "Accuracy: 0.9386\n",
      "Precision: 0.9466\n",
      "Recall: 0.9306\n",
      "F1: 0.9385\n"
     ]
    }
   ],
   "source": [
    "models = [['Random_class:', RandomForestClassifier(random_state=1)], \n",
    "['Extra Tree class:', ExtraTreesClassifier(random_state=1)], \n",
    "['XGBoost_class:', XGBClassifier(random_state=1)], ['LGBoost_class:', LGBMClassifier(random_state=1)]]\n",
    "kf = KFold(n_splits= 5 , shuffle= True , random_state= 1)\n",
    "\n",
    "\n",
    "for train_index, test_index in kf.split(std_xtrain):\n",
    "\n",
    "    xx_train, xx_test = np.array(std_xtrain)[train_index], np.array(std_xtrain)[test_index]\n",
    "    yy_train, yy_test = y_balanced[train_index], y_balanced[test_index]\n",
    "    \n",
    "    \n",
    "for name,model in models:\n",
    "    mode = model.fit(xx_train, yy_train)\n",
    "    m_predictions = model.predict(xx_test)\n",
    "    print(' ')\n",
    "    print('For', name)\n",
    "    accuracy = accuracy_score(y_true=yy_test, y_pred=m_predictions)\n",
    "    print( 'Accuracy: {}' .format('%.4f' % accuracy))\n",
    "    precision = precision_score(y_true=yy_test, y_pred=m_predictions)\n",
    "    print( 'Precision: {}' .format('%.4f' % precision))\n",
    "    recall = recall_score(y_true=yy_test, y_pred=m_predictions)\n",
    "    print( 'Recall: {}' .format('%.4f' % recall))\n",
    "    f1 = f1_score(y_true=yy_test, y_pred=m_predictions)\n",
    "    print( 'F1: {}' .format('%.4f' %f1))"
   ]
  }
 ],
 "metadata": {
  "kernelspec": {
   "display_name": "Python 3.9.7 ('base')",
   "language": "python",
   "name": "python3"
  },
  "language_info": {
   "codemirror_mode": {
    "name": "ipython",
    "version": 3
   },
   "file_extension": ".py",
   "mimetype": "text/x-python",
   "name": "python",
   "nbconvert_exporter": "python",
   "pygments_lexer": "ipython3",
   "version": "3.9.7"
  },
  "vscode": {
   "interpreter": {
    "hash": "f08154012ddadd8e950e6e9e035c7a7b32c136e7647e9b7c77e02eb723a8bedb"
   }
  }
 },
 "nbformat": 4,
 "nbformat_minor": 5
}
